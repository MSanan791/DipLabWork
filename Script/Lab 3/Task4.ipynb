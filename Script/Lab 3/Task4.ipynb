{
 "cells": [
  {
   "cell_type": "code",
   "id": "initial_id",
   "metadata": {
    "collapsed": true,
    "ExecuteTime": {
     "end_time": "2025-02-10T10:45:14.694318Z",
     "start_time": "2025-02-10T10:45:14.667816Z"
    }
   },
   "source": [
    "import numpy as np\n",
    "import cv2 as cv\n",
    "\n",
    "def readimg_grey(path):\n",
    "    img = cv.imread(path, cv.IMREAD_GRAYSCALE)\n",
    "    img_data = np.array(img)\n",
    "    return img_data\n",
    "\n",
    "def readimg_color(path):\n",
    "    img = cv.imread(path)\n",
    "    img_data = np.array(img)\n",
    "    return img_data\n",
    "\n",
    "def level_slicing(img, low_level, high_level):\n",
    "    [x, y] = img.shape\n",
    "    for i in range(x):\n",
    "        for j in range(y):\n",
    "            if(img[i][j] >= low_level and img[i][j] <= high_level):\n",
    "                img[i][j] = 210\n",
    "\n",
    "\n",
    "    cv.imshow('img', img)\n",
    "    cv.waitKey(0)\n",
    "img1 = readimg_grey(r\"D:\\Semester 6\\DIP\\Lab\\Lab 3\\gradient.png\")\n"
   ],
   "outputs": [],
   "execution_count": 2
  },
  {
   "metadata": {},
   "cell_type": "code",
   "outputs": [],
   "execution_count": null,
   "source": "",
   "id": "d277ba4618a9c41d"
  }
 ],
 "metadata": {
  "kernelspec": {
   "display_name": "Python 3",
   "language": "python",
   "name": "python3"
  },
  "language_info": {
   "codemirror_mode": {
    "name": "ipython",
    "version": 2
   },
   "file_extension": ".py",
   "mimetype": "text/x-python",
   "name": "python",
   "nbconvert_exporter": "python",
   "pygments_lexer": "ipython2",
   "version": "2.7.6"
  }
 },
 "nbformat": 4,
 "nbformat_minor": 5
}
