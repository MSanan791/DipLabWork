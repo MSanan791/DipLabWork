{
 "cells": [
  {
   "cell_type": "code",
   "id": "initial_id",
   "metadata": {
    "collapsed": true,
    "ExecuteTime": {
     "end_time": "2025-04-28T15:00:31.903962Z",
     "start_time": "2025-04-28T15:00:31.888957Z"
    }
   },
   "source": [
    "import numpy as np\n",
    "import matplotlib.pyplot as plt\n",
    "import cv2\n",
    "import pandas as pd"
   ],
   "outputs": [],
   "execution_count": 78
  },
  {
   "metadata": {
    "ExecuteTime": {
     "end_time": "2025-04-28T15:09:08.299212Z",
     "start_time": "2025-04-28T15:09:08.280214Z"
    }
   },
   "cell_type": "code",
   "source": [
    "feature_table = pd.read_csv('Iris.csv')\n",
    "feature_table = feature_table.sample(frac = 1, random_state = 42).reset_index(drop = True)\n",
    "feature_table.head()\n",
    "\n"
   ],
   "id": "2cae9718a55cefbc",
   "outputs": [
    {
     "data": {
      "text/plain": [
       "    Id  SepalLengthCm  SepalWidthCm  PetalLengthCm  PetalWidthCm  \\\n",
       "0   74            6.1           2.8            4.7           1.2   \n",
       "1   19            5.7           3.8            1.7           0.3   \n",
       "2  119            7.7           2.6            6.9           2.3   \n",
       "3   79            6.0           2.9            4.5           1.5   \n",
       "4   77            6.8           2.8            4.8           1.4   \n",
       "\n",
       "           Species  \n",
       "0  Iris-versicolor  \n",
       "1      Iris-setosa  \n",
       "2   Iris-virginica  \n",
       "3  Iris-versicolor  \n",
       "4  Iris-versicolor  "
      ],
      "text/html": [
       "<div>\n",
       "<style scoped>\n",
       "    .dataframe tbody tr th:only-of-type {\n",
       "        vertical-align: middle;\n",
       "    }\n",
       "\n",
       "    .dataframe tbody tr th {\n",
       "        vertical-align: top;\n",
       "    }\n",
       "\n",
       "    .dataframe thead th {\n",
       "        text-align: right;\n",
       "    }\n",
       "</style>\n",
       "<table border=\"1\" class=\"dataframe\">\n",
       "  <thead>\n",
       "    <tr style=\"text-align: right;\">\n",
       "      <th></th>\n",
       "      <th>Id</th>\n",
       "      <th>SepalLengthCm</th>\n",
       "      <th>SepalWidthCm</th>\n",
       "      <th>PetalLengthCm</th>\n",
       "      <th>PetalWidthCm</th>\n",
       "      <th>Species</th>\n",
       "    </tr>\n",
       "  </thead>\n",
       "  <tbody>\n",
       "    <tr>\n",
       "      <th>0</th>\n",
       "      <td>74</td>\n",
       "      <td>6.1</td>\n",
       "      <td>2.8</td>\n",
       "      <td>4.7</td>\n",
       "      <td>1.2</td>\n",
       "      <td>Iris-versicolor</td>\n",
       "    </tr>\n",
       "    <tr>\n",
       "      <th>1</th>\n",
       "      <td>19</td>\n",
       "      <td>5.7</td>\n",
       "      <td>3.8</td>\n",
       "      <td>1.7</td>\n",
       "      <td>0.3</td>\n",
       "      <td>Iris-setosa</td>\n",
       "    </tr>\n",
       "    <tr>\n",
       "      <th>2</th>\n",
       "      <td>119</td>\n",
       "      <td>7.7</td>\n",
       "      <td>2.6</td>\n",
       "      <td>6.9</td>\n",
       "      <td>2.3</td>\n",
       "      <td>Iris-virginica</td>\n",
       "    </tr>\n",
       "    <tr>\n",
       "      <th>3</th>\n",
       "      <td>79</td>\n",
       "      <td>6.0</td>\n",
       "      <td>2.9</td>\n",
       "      <td>4.5</td>\n",
       "      <td>1.5</td>\n",
       "      <td>Iris-versicolor</td>\n",
       "    </tr>\n",
       "    <tr>\n",
       "      <th>4</th>\n",
       "      <td>77</td>\n",
       "      <td>6.8</td>\n",
       "      <td>2.8</td>\n",
       "      <td>4.8</td>\n",
       "      <td>1.4</td>\n",
       "      <td>Iris-versicolor</td>\n",
       "    </tr>\n",
       "  </tbody>\n",
       "</table>\n",
       "</div>"
      ]
     },
     "execution_count": 97,
     "metadata": {},
     "output_type": "execute_result"
    }
   ],
   "execution_count": 97
  },
  {
   "metadata": {
    "ExecuteTime": {
     "end_time": "2025-04-28T15:00:32.013481Z",
     "start_time": "2025-04-28T15:00:31.999479Z"
    }
   },
   "cell_type": "code",
   "source": [
    "data_len = len(feature_table)\n",
    "print('length of data:', data_len)\n"
   ],
   "id": "1894a1986ba809f4",
   "outputs": [
    {
     "name": "stdout",
     "output_type": "stream",
     "text": [
      "length of data: 150\n"
     ]
    }
   ],
   "execution_count": 80
  },
  {
   "metadata": {
    "ExecuteTime": {
     "end_time": "2025-04-28T15:00:32.106709Z",
     "start_time": "2025-04-28T15:00:32.081201Z"
    }
   },
   "cell_type": "code",
   "source": [
    "# Splitting Data to Test Train\n",
    "eighty = int(data_len * 0.8)\n",
    "twenty = int(data_len * 0.2)\n",
    "\n",
    "train_data1 = feature_table[:eighty]\n",
    "test_data1 = feature_table[eighty:]\n",
    "print('Train data:', train_data1)\n",
    "print('Test data:', test_data1)\n",
    "\n",
    "train_data2 = feature_table[:twenty+twenty+twenty-1]\n",
    "test_data2 = feature_table[eighty-twenty:eighty-1]\n",
    "train_data2 = pd.concat([train_data2, feature_table[eighty:]])\n",
    "\n",
    "train_data3 = feature_table[:twenty+twenty-1]\n",
    "test_data3 = feature_table[twenty+twenty:eighty-twenty-1]\n",
    "train_data3 = pd.concat([train_data3, feature_table[eighty-twenty:]])\n",
    "\n",
    "train_data4 = feature_table[:twenty-1]\n",
    "test_data4 = feature_table[twenty:eighty-twenty-twenty-1]\n",
    "train_data4 = pd.concat([train_data4, feature_table[eighty-twenty-twenty:]])\n",
    "\n",
    "train_data5 = feature_table[twenty:]\n",
    "test_data5 = feature_table[:twenty-1]\n",
    "\n"
   ],
   "id": "e62d8344034dc3ac",
   "outputs": [
    {
     "name": "stdout",
     "output_type": "stream",
     "text": [
      "Train data:       Id  SepalLengthCm  SepalWidthCm  PetalLengthCm  PetalWidthCm  \\\n",
      "0     74            6.1           2.8            4.7           1.2   \n",
      "1     19            5.7           3.8            1.7           0.3   \n",
      "2    119            7.7           2.6            6.9           2.3   \n",
      "3     79            6.0           2.9            4.5           1.5   \n",
      "4     77            6.8           2.8            4.8           1.4   \n",
      "..   ...            ...           ...            ...           ...   \n",
      "115  140            6.9           3.1            5.4           2.1   \n",
      "116   62            5.9           3.0            4.2           1.5   \n",
      "117  148            6.5           3.0            5.2           2.0   \n",
      "118   80            5.7           2.6            3.5           1.0   \n",
      "119   60            5.2           2.7            3.9           1.4   \n",
      "\n",
      "             Species  \n",
      "0    Iris-versicolor  \n",
      "1        Iris-setosa  \n",
      "2     Iris-virginica  \n",
      "3    Iris-versicolor  \n",
      "4    Iris-versicolor  \n",
      "..               ...  \n",
      "115   Iris-virginica  \n",
      "116  Iris-versicolor  \n",
      "117   Iris-virginica  \n",
      "118  Iris-versicolor  \n",
      "119  Iris-versicolor  \n",
      "\n",
      "[120 rows x 6 columns]\n",
      "Test data:       Id  SepalLengthCm  SepalWidthCm  PetalLengthCm  PetalWidthCm  \\\n",
      "120   92            6.1           3.0            4.6           1.4   \n",
      "121   42            4.5           2.3            1.3           0.3   \n",
      "122   59            6.6           2.9            4.6           1.3   \n",
      "123   91            5.5           2.6            4.4           1.2   \n",
      "124   49            5.3           3.7            1.5           0.2   \n",
      "125   89            5.6           3.0            4.1           1.3   \n",
      "126  108            7.3           2.9            6.3           1.8   \n",
      "127  125            6.7           3.3            5.7           2.1   \n",
      "128   22            5.1           3.7            1.5           0.4   \n",
      "129   58            4.9           2.4            3.3           1.0   \n",
      "130  145            6.7           3.3            5.7           2.5   \n",
      "131  130            7.2           3.0            5.8           1.6   \n",
      "132   38            4.9           3.1            1.5           0.1   \n",
      "133  141            6.7           3.1            5.6           2.4   \n",
      "134    2            4.9           3.0            1.4           0.2   \n",
      "135   53            6.9           3.1            4.9           1.5   \n",
      "136  131            7.4           2.8            6.1           1.9   \n",
      "137  104            6.3           2.9            5.6           1.8   \n",
      "138  100            5.7           2.8            4.1           1.3   \n",
      "139  117            6.5           3.0            5.5           1.8   \n",
      "140   88            6.3           2.3            4.4           1.3   \n",
      "141   75            6.4           2.9            4.3           1.3   \n",
      "142  122            5.6           2.8            4.9           2.0   \n",
      "143  150            5.9           3.0            5.1           1.8   \n",
      "144   21            5.4           3.4            1.7           0.2   \n",
      "145   72            6.1           2.8            4.0           1.3   \n",
      "146  107            4.9           2.5            4.5           1.7   \n",
      "147   15            5.8           4.0            1.2           0.2   \n",
      "148   93            5.8           2.6            4.0           1.2   \n",
      "149  103            7.1           3.0            5.9           2.1   \n",
      "\n",
      "             Species  \n",
      "120  Iris-versicolor  \n",
      "121      Iris-setosa  \n",
      "122  Iris-versicolor  \n",
      "123  Iris-versicolor  \n",
      "124      Iris-setosa  \n",
      "125  Iris-versicolor  \n",
      "126   Iris-virginica  \n",
      "127   Iris-virginica  \n",
      "128      Iris-setosa  \n",
      "129  Iris-versicolor  \n",
      "130   Iris-virginica  \n",
      "131   Iris-virginica  \n",
      "132      Iris-setosa  \n",
      "133   Iris-virginica  \n",
      "134      Iris-setosa  \n",
      "135  Iris-versicolor  \n",
      "136   Iris-virginica  \n",
      "137   Iris-virginica  \n",
      "138  Iris-versicolor  \n",
      "139   Iris-virginica  \n",
      "140  Iris-versicolor  \n",
      "141  Iris-versicolor  \n",
      "142   Iris-virginica  \n",
      "143   Iris-virginica  \n",
      "144      Iris-setosa  \n",
      "145  Iris-versicolor  \n",
      "146   Iris-virginica  \n",
      "147      Iris-setosa  \n",
      "148  Iris-versicolor  \n",
      "149   Iris-virginica  \n"
     ]
    }
   ],
   "execution_count": 81
  },
  {
   "metadata": {
    "ExecuteTime": {
     "end_time": "2025-04-28T15:09:16.618012Z",
     "start_time": "2025-04-28T15:09:16.595295Z"
    }
   },
   "cell_type": "code",
   "source": [
    "def euclidean_distance(point1, point2):\n",
    "    # Only use features, no label\n",
    "    point1 = np.array(point1)\n",
    "    point2 = np.array(point2)\n",
    "    return np.sqrt(np.sum((point1 - point2) ** 2))\n",
    "\n",
    "\n",
    "\n",
    "\n",
    "def find_neighbours(train_data, test_data, k=3):\n",
    "    predictions = []\n",
    "\n",
    "    for i in range(len(test_data)):\n",
    "        distances = []\n",
    "\n",
    "        for j in range(len(train_data)):\n",
    "            # Compute distance between test sample and training sample\n",
    "            distance = euclidean_distance(test_data.iloc[i, :-1], train_data.iloc[j, :-1])\n",
    "            label = train_data.iloc[j, -1]  # Get label from training data\n",
    "            distances.append((distance, label))\n",
    "\n",
    "        # Sort based on distance\n",
    "        distances.sort(key=lambda x: x[0])\n",
    "\n",
    "        # Take top k neighbours\n",
    "        neighbours = distances[:k]\n",
    "        neighbour_labels = [label for _, second in neighbours]\n",
    "\n",
    "        # Majority voting\n",
    "        predicted_label = max(set(neighbour_labels), key=neighbour_labels.count)\n",
    "        # print('predicted label:', neighbours)\n",
    "        predictions.append(predicted_label)\n",
    "\n",
    "    return predictions\n",
    "\n",
    "\n"
   ],
   "id": "e5987c9fd2ea12f8",
   "outputs": [],
   "execution_count": 98
  },
  {
   "metadata": {
    "ExecuteTime": {
     "end_time": "2025-04-28T15:45:17.000998Z",
     "start_time": "2025-04-28T15:45:14.843940Z"
    }
   },
   "cell_type": "code",
   "source": [
    "\n",
    "prediction = find_neighbours(train_data1, test_data1)\n",
    "prediction2 = find_neighbours(train_data2, test_data2, 7)\n",
    "prediction3 = find_neighbours(train_data1, test_data1, 10)\n",
    "print('prediction:', prediction)\n",
    "\n"
   ],
   "id": "6057d1a39fcc23c7",
   "outputs": [
    {
     "name": "stdout",
     "output_type": "stream",
     "text": [
      "prediction: ['Iris-versicolor', 'Iris-versicolor', 'Iris-versicolor', 'Iris-versicolor', 'Iris-versicolor', 'Iris-versicolor', 'Iris-versicolor', 'Iris-versicolor', 'Iris-versicolor', 'Iris-versicolor', 'Iris-versicolor', 'Iris-versicolor', 'Iris-versicolor', 'Iris-versicolor', 'Iris-versicolor', 'Iris-versicolor', 'Iris-versicolor', 'Iris-versicolor', 'Iris-versicolor', 'Iris-versicolor', 'Iris-versicolor', 'Iris-versicolor', 'Iris-versicolor', 'Iris-versicolor', 'Iris-versicolor', 'Iris-versicolor', 'Iris-versicolor', 'Iris-versicolor', 'Iris-versicolor', 'Iris-versicolor']\n"
     ]
    }
   ],
   "execution_count": 139
  },
  {
   "metadata": {
    "ExecuteTime": {
     "end_time": "2025-04-28T15:19:41.842721Z",
     "start_time": "2025-04-28T15:19:41.835714Z"
    }
   },
   "cell_type": "code",
   "source": [
    "def confusion_matrix(predictions, test_data):\n",
    "    labels = test_data.iloc[:, -1].values\n",
    "    unique_labels = np.unique(labels)\n",
    "    matrix = pd.DataFrame(0, index=unique_labels, columns=unique_labels)\n",
    "\n",
    "    for i in range(len(predictions)):\n",
    "        matrix.loc[labels[i], predictions[i]] += 1\n",
    "\n",
    "    return matrix"
   ],
   "id": "bccfdb5c52b7748c",
   "outputs": [],
   "execution_count": 116
  },
  {
   "metadata": {
    "ExecuteTime": {
     "end_time": "2025-04-28T15:45:28.190412Z",
     "start_time": "2025-04-28T15:45:28.171818Z"
    }
   },
   "cell_type": "code",
   "source": [
    "matrix = confusion_matrix(prediction, test_data1)\n",
    "matrix2 = confusion_matrix(prediction2, test_data2 )\n",
    "matrix3 = confusion_matrix(prediction3, test_data1)\n",
    "print('Confusion Matrix:', matrix)"
   ],
   "id": "ed0a9e56aeea0116",
   "outputs": [
    {
     "name": "stdout",
     "output_type": "stream",
     "text": [
      "Confusion Matrix:                  Iris-setosa  Iris-versicolor  Iris-virginica\n",
      "Iris-setosa                0                7               0\n",
      "Iris-versicolor            0               11               0\n",
      "Iris-virginica             0               12               0\n"
     ]
    }
   ],
   "execution_count": 143
  },
  {
   "metadata": {
    "ExecuteTime": {
     "end_time": "2025-04-28T15:20:14.405671Z",
     "start_time": "2025-04-28T15:20:14.392551Z"
    }
   },
   "cell_type": "code",
   "source": [
    "def plot_confusion_matrix(matrix, title='Confusion matrix'):\n",
    "    plt.imshow(matrix, interpolation='nearest', cmap=plt.cm.Blues)\n",
    "    plt.title(title)\n",
    "    plt.colorbar()\n",
    "    tick_marks = np.arange(len(matrix.columns))\n",
    "    plt.xticks(tick_marks, matrix.columns, rotation=45)\n",
    "    plt.yticks(tick_marks, matrix.index)\n",
    "\n",
    "    thresh = matrix.values.max() / 2.\n",
    "    for i, j in np.ndindex(matrix.shape):\n",
    "        plt.text(j, i, matrix.values[i, j],\n",
    "                 horizontalalignment=\"center\",\n",
    "                 color=\"white\" if matrix.values[i, j] > thresh else \"black\")\n",
    "\n",
    "    plt.ylabel('True label')\n",
    "    plt.xlabel('Predicted label')\n",
    "    plt.tight_layout()"
   ],
   "id": "8faa7b62ce30bcdd",
   "outputs": [],
   "execution_count": 118
  },
  {
   "metadata": {
    "ExecuteTime": {
     "end_time": "2025-04-28T15:45:31.986340Z",
     "start_time": "2025-04-28T15:45:31.825181Z"
    }
   },
   "cell_type": "code",
   "source": "plot_confusion_matrix(matrix)\n",
   "id": "42d020a550468cd2",
   "outputs": [
    {
     "data": {
      "text/plain": [
       "<Figure size 640x480 with 2 Axes>"
      ],
      "image/png": "[encoded data removed]"
     },
     "metadata": {},
     "output_type": "display_data"
    }
   ],
   "execution_count": 144
  },
  {
   "metadata": {
    "ExecuteTime": {
     "end_time": "2025-04-28T15:45:34.218894Z",
     "start_time": "2025-04-28T15:45:34.083378Z"
    }
   },
   "cell_type": "code",
   "source": "plot_confusion_matrix(matrix2, title='Confusion matrix 2')",
   "id": "a55511e67023e741",
   "outputs": [
    {
     "data": {
      "text/plain": [
       "<Figure size 640x480 with 2 Axes>"
      ],
      "image/png": "[encoded data removed]"
     },
     "metadata": {},
     "output_type": "display_data"
    }
   ],
   "execution_count": 145
  },
  {
   "metadata": {
    "ExecuteTime": {
     "end_time": "2025-04-28T15:45:39.960888Z",
     "start_time": "2025-04-28T15:45:39.820372Z"
    }
   },
   "cell_type": "code",
   "source": "plot_confusion_matrix(matrix3, title='Confusion matrix 3')\n",
   "id": "46e3a0abe8e25427",
   "outputs": [
    {
     "data": {
      "text/plain": [
       "<Figure size 640x480 with 2 Axes>"
      ],
      "image/png": "[encoded data removed]"
     },
     "metadata": {},
     "output_type": "display_data"
    }
   ],
   "execution_count": 146
  },
  {
   "metadata": {
    "ExecuteTime": {
     "end_time": "2025-04-28T15:44:27.943102Z",
     "start_time": "2025-04-28T15:44:21.518965Z"
    }
   },
   "cell_type": "code",
   "source": [
    "from sklearn import neighbors\n",
    "from sklearn import metrics\n",
    "from sklearn.model_selection import train_test_split\n",
    "from mlxtend.plotting import plot_decision_regions\n",
    "from sklearn.preprocessing import LabelEncoder\n",
    "import matplotlib.pyplot as plt\n",
    "\n",
    "# Only use two features for plotting\n",
    "X = feature_table.iloc[:, [0, 1]].values\n",
    "y = feature_table.iloc[:, -1].values\n",
    "\n",
    "# Encode string labels into integers\n",
    "le = LabelEncoder()\n",
    "y = le.fit_transform(y)\n",
    "\n",
    "# Split\n",
    "X_train, X_test, y_train, y_test = train_test_split(X, y, test_size=0.2, random_state=42)\n",
    "\n",
    "# Train\n",
    "knn = neighbors.KNeighborsClassifier(n_neighbors=5)\n",
    "knn.fit(X_train, y_train)\n",
    "\n",
    "# Plot decision regions\n",
    "plot_decision_regions(X, y, clf=knn, legend=2)\n",
    "plt.xlabel('Sepal Length')\n",
    "plt.ylabel('Sepal Width')\n",
    "plt.title('KNN Decision Boundaries with k=5')\n",
    "plt.show()\n"
   ],
   "id": "2b14cd35dbcde330",
   "outputs": [
    {
     "data": {
      "text/plain": [
       "<Figure size 640x480 with 1 Axes>"
      ],
      "image/png": "[encoded data removed]"
     },
     "metadata": {},
     "output_type": "display_data"
    }
   ],
   "execution_count": 138
  },
  {
   "metadata": {
    "ExecuteTime": {
     "end_time": "2025-04-28T22:58:58.323294Z",
     "start_time": "2025-04-28T22:58:58.303588Z"
    }
   },
   "cell_type": "code",
   "source": [
    "# Minimum Distance Classifier\n",
    "input_data = pd.read_csv(\"Iris.csv\")\n",
    "input_data = input_data.sample(frac=1, random_state=42).reset_index(drop=True)\n",
    "labels = input_data.iloc[:, -1].values\n",
    "labels = np.unique(labels)\n",
    "def distance_classifier(train_data, test_data, k):\n",
    "    predictions = []\n",
    "    for i in range (len(test_data)):\n",
    "        distances = []\n",
    "        for j in range(len(train_data)):\n",
    "            distance = euclidean_distance(test_data.iloc[i,:-1], train_data.iloc[j, :-1])\n",
    "            label = train_data.iloc[j, -1]\n",
    "            distances.append((distance, label))\n",
    "        distances.sort(key=lambda x: x[0])\n",
    "        distances = distances[:k]\n",
    "        neighbour_labels = [label for label, label in distances]\n",
    "        print(neighbour_labels)\n",
    "        predicted_label = max(neighbour_labels)\n",
    "        predictions.append(predicted_label)\n",
    "    return predictions\n",
    "\n",
    "def confusion_matrix(train_data, test_data, k):\n",
    "    predictions = distance_classifier(train_data, test_data, k)\n",
    "    labels = test_data.iloc[:, -1].values\n",
    "    labels = np.unique(labels)\n",
    "    matrix = pd.DataFrame(0, index=labels, columns=labels)\n",
    "    for i in range(len(predictions)):\n",
    "        if predictions[i] == test_data.iloc[i, -1]:\n",
    "            matrix.loc[test_data.iloc[i,-1], predictions[i]] += 1\n",
    "    return matrix\n"
   ],
   "id": "a854ad301abc64c6",
   "outputs": [],
   "execution_count": 187
  },
  {
   "metadata": {
    "ExecuteTime": {
     "end_time": "2025-04-28T23:06:54.452678Z",
     "start_time": "2025-04-28T23:06:53.288646Z"
    }
   },
   "cell_type": "code",
   "source": [
    "print('Minimum Distance Classifier', distance_classifier(train_data1, test_data1, 3))\n",
    "matrix = confusion_matrix(train_data1, test_data1, 3)\n",
    "print('Confusion Matrix:', matrix)"
   ],
   "id": "60bebc28a08a6418",
   "outputs": [
    {
     "name": "stdout",
     "output_type": "stream",
     "text": [
      "['Iris-versicolor', 'Iris-versicolor', 'Iris-versicolor']\n",
      "['Iris-setosa', 'Iris-setosa', 'Iris-setosa']\n",
      "['Iris-versicolor', 'Iris-versicolor', 'Iris-versicolor']\n",
      "['Iris-versicolor', 'Iris-versicolor', 'Iris-versicolor']\n",
      "['Iris-setosa', 'Iris-setosa', 'Iris-setosa']\n",
      "['Iris-versicolor', 'Iris-versicolor', 'Iris-versicolor']\n",
      "['Iris-virginica', 'Iris-virginica', 'Iris-virginica']\n",
      "['Iris-virginica', 'Iris-virginica', 'Iris-virginica']\n",
      "['Iris-setosa', 'Iris-setosa', 'Iris-setosa']\n",
      "['Iris-versicolor', 'Iris-versicolor', 'Iris-versicolor']\n",
      "['Iris-virginica', 'Iris-virginica', 'Iris-virginica']\n",
      "['Iris-virginica', 'Iris-virginica', 'Iris-virginica']\n",
      "['Iris-setosa', 'Iris-setosa', 'Iris-setosa']\n",
      "['Iris-virginica', 'Iris-virginica', 'Iris-virginica']\n",
      "['Iris-setosa', 'Iris-setosa', 'Iris-setosa']\n",
      "['Iris-versicolor', 'Iris-versicolor', 'Iris-versicolor']\n",
      "['Iris-virginica', 'Iris-virginica', 'Iris-virginica']\n",
      "['Iris-virginica', 'Iris-virginica', 'Iris-virginica']\n",
      "['Iris-versicolor', 'Iris-versicolor', 'Iris-virginica']\n",
      "['Iris-virginica', 'Iris-virginica', 'Iris-virginica']\n",
      "['Iris-versicolor', 'Iris-versicolor', 'Iris-versicolor']\n",
      "['Iris-versicolor', 'Iris-versicolor', 'Iris-versicolor']\n",
      "['Iris-virginica', 'Iris-virginica', 'Iris-virginica']\n",
      "['Iris-virginica', 'Iris-virginica', 'Iris-virginica']\n",
      "['Iris-setosa', 'Iris-setosa', 'Iris-setosa']\n",
      "['Iris-versicolor', 'Iris-versicolor', 'Iris-versicolor']\n",
      "['Iris-virginica', 'Iris-virginica', 'Iris-virginica']\n",
      "['Iris-setosa', 'Iris-setosa', 'Iris-setosa']\n",
      "['Iris-versicolor', 'Iris-versicolor', 'Iris-versicolor']\n",
      "['Iris-virginica', 'Iris-virginica', 'Iris-virginica']\n",
      "Minimum Distance Classifier ['Iris-versicolor', 'Iris-setosa', 'Iris-versicolor', 'Iris-versicolor', 'Iris-setosa', 'Iris-versicolor', 'Iris-virginica', 'Iris-virginica', 'Iris-setosa', 'Iris-versicolor', 'Iris-virginica', 'Iris-virginica', 'Iris-setosa', 'Iris-virginica', 'Iris-setosa', 'Iris-versicolor', 'Iris-virginica', 'Iris-virginica', 'Iris-virginica', 'Iris-virginica', 'Iris-versicolor', 'Iris-versicolor', 'Iris-virginica', 'Iris-virginica', 'Iris-setosa', 'Iris-versicolor', 'Iris-virginica', 'Iris-setosa', 'Iris-versicolor', 'Iris-virginica']\n",
      "['Iris-versicolor', 'Iris-versicolor', 'Iris-versicolor']\n",
      "['Iris-setosa', 'Iris-setosa', 'Iris-setosa']\n",
      "['Iris-versicolor', 'Iris-versicolor', 'Iris-versicolor']\n",
      "['Iris-versicolor', 'Iris-versicolor', 'Iris-versicolor']\n",
      "['Iris-setosa', 'Iris-setosa', 'Iris-setosa']\n",
      "['Iris-versicolor', 'Iris-versicolor', 'Iris-versicolor']\n",
      "['Iris-virginica', 'Iris-virginica', 'Iris-virginica']\n",
      "['Iris-virginica', 'Iris-virginica', 'Iris-virginica']\n",
      "['Iris-setosa', 'Iris-setosa', 'Iris-setosa']\n",
      "['Iris-versicolor', 'Iris-versicolor', 'Iris-versicolor']\n",
      "['Iris-virginica', 'Iris-virginica', 'Iris-virginica']\n",
      "['Iris-virginica', 'Iris-virginica', 'Iris-virginica']\n",
      "['Iris-setosa', 'Iris-setosa', 'Iris-setosa']\n",
      "['Iris-virginica', 'Iris-virginica', 'Iris-virginica']\n",
      "['Iris-setosa', 'Iris-setosa', 'Iris-setosa']\n",
      "['Iris-versicolor', 'Iris-versicolor', 'Iris-versicolor']\n",
      "['Iris-virginica', 'Iris-virginica', 'Iris-virginica']\n",
      "['Iris-virginica', 'Iris-virginica', 'Iris-virginica']\n",
      "['Iris-versicolor', 'Iris-versicolor', 'Iris-virginica']\n",
      "['Iris-virginica', 'Iris-virginica', 'Iris-virginica']\n",
      "['Iris-versicolor', 'Iris-versicolor', 'Iris-versicolor']\n",
      "['Iris-versicolor', 'Iris-versicolor', 'Iris-versicolor']\n",
      "['Iris-virginica', 'Iris-virginica', 'Iris-virginica']\n",
      "['Iris-virginica', 'Iris-virginica', 'Iris-virginica']\n",
      "['Iris-setosa', 'Iris-setosa', 'Iris-setosa']\n",
      "['Iris-versicolor', 'Iris-versicolor', 'Iris-versicolor']\n",
      "['Iris-virginica', 'Iris-virginica', 'Iris-virginica']\n",
      "['Iris-setosa', 'Iris-setosa', 'Iris-setosa']\n",
      "['Iris-versicolor', 'Iris-versicolor', 'Iris-versicolor']\n",
      "['Iris-virginica', 'Iris-virginica', 'Iris-virginica']\n",
      "Confusion Matrix:                  Iris-setosa  Iris-versicolor  Iris-virginica\n",
      "Iris-setosa                7                0               0\n",
      "Iris-versicolor            0               10               0\n",
      "Iris-virginica             0                0              12\n"
     ]
    }
   ],
   "execution_count": 200
  },
  {
   "metadata": {
    "ExecuteTime": {
     "end_time": "2025-04-28T23:06:55.351656Z",
     "start_time": "2025-04-28T23:06:55.341126Z"
    }
   },
   "cell_type": "code",
   "source": [
    "def precision(confusion_matrix):\n",
    "    TP = confusion_matrix.values.diagonal().sum()\n",
    "    FP = confusion_matrix.sum(axis=0) - confusion_matrix.values.diagonal()\n",
    "    precision = TP / (TP + FP)\n",
    "    accuracy = confusion_matrix.values.diagonal().sum() / confusion_matrix.sum().sum()\n",
    "    return precision , accuracy\n"
   ],
   "id": "49a86296d9df210a",
   "outputs": [],
   "execution_count": 201
  },
  {
   "metadata": {
    "ExecuteTime": {
     "end_time": "2025-04-28T23:06:56.357327Z",
     "start_time": "2025-04-28T23:06:56.343312Z"
    }
   },
   "cell_type": "code",
   "source": [
    "precision, accuracy = precision(matrix)\n",
    "print('precision: ', precision)\n",
    "print('accuracy: ', accuracy)\n"
   ],
   "id": "7cfcf2fc62df2cfa",
   "outputs": [
    {
     "name": "stdout",
     "output_type": "stream",
     "text": [
      "precision:  Iris-setosa        1.0\n",
      "Iris-versicolor    1.0\n",
      "Iris-virginica     1.0\n",
      "dtype: float64\n",
      "accuracy:  1.0\n"
     ]
    }
   ],
   "execution_count": 202
  },
  {
   "metadata": {},
   "cell_type": "code",
   "outputs": [],
   "execution_count": null,
   "source": "",
   "id": "d3bb978d3bba8017"
  }
 ],
 "metadata": {
  "kernelspec": {
   "display_name": "Python 3",
   "language": "python",
   "name": "python3"
  },
  "language_info": {
   "codemirror_mode": {
    "name": "ipython",
    "version": 2
   },
   "file_extension": ".py",
   "mimetype": "text/x-python",
   "name": "python",
   "nbconvert_exporter": "python",
   "pygments_lexer": "ipython2",
   "version": "2.7.6"
  }
 },
 "nbformat": 4,
 "nbformat_minor": 5
}
